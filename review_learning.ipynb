{
  "nbformat": 4,
  "nbformat_minor": 0,
  "metadata": {
    "colab": {
      "name": "review learning.ipynb",
      "provenance": [],
      "collapsed_sections": [],
      "include_colab_link": true
    },
    "kernelspec": {
      "name": "python3",
      "display_name": "Python 3"
    },
    "language_info": {
      "name": "python"
    },
    "accelerator": "GPU"
  },
  "cells": [
    {
      "cell_type": "markdown",
      "metadata": {
        "id": "view-in-github",
        "colab_type": "text"
      },
      "source": [
        "<a href=\"https://colab.research.google.com/github/ripky/OFA/blob/main/review_learning.ipynb\" target=\"_parent\"><img src=\"https://colab.research.google.com/assets/colab-badge.svg\" alt=\"Open In Colab\"/></a>"
      ]
    },
    {
      "cell_type": "markdown",
      "source": [
        "# **Course - built-in and User-defined Function**\n",
        "\n",
        "**1.menggabungkan dua buah string tuple pada sebuah list**"
      ],
      "metadata": {
        "id": "WPafXET3w7QN"
      }
    },
    {
      "cell_type": "code",
      "execution_count": null,
      "metadata": {
        "colab": {
          "base_uri": "https://localhost:8080/"
        },
        "id": "qL_oip4_wwoU",
        "outputId": "0960557c-a3c2-4fab-faf3-19710ef229ed"
      },
      "outputs": [
        {
          "output_type": "stream",
          "name": "stdout",
          "text": [
            "sebelum digabung :[('red', 'pink'), ('white', 'black'), ('orange', 'green')]\n",
            "setelah digabung :['red pink', 'white black', 'orange green']\n"
          ]
        }
      ],
      "source": [
        "warna = [(\"red\",\"pink\"),(\"white\",\"black\"),(\"orange\",\"green\")]\n",
        "print(\"sebelum digabung :\"+ str(warna))\n",
        "lst = [\" \".join(tups) for tups in warna]\n",
        "print(\"setelah digabung :\"+ str(lst))"
      ]
    },
    {
      "cell_type": "markdown",
      "source": [
        "**2. menggabungkan nilai dari 2 dictionary ke dalam list dictionary baru**"
      ],
      "metadata": {
        "id": "kv60TwPm1NId"
      }
    },
    {
      "cell_type": "code",
      "source": [
        "n = {\"Mata Kuliah \": [\"mtk\",\"biologi\",\"fisika\",\"kimia\"], \"language\": [77, 78, 84, 80]}\n",
        "# Printing initial dict\n",
        "print(\"list asli : \" , [n])\n",
        "\n",
        "a= [key for key in n]\n",
        "b = [value for value in n.values()]\n",
        "for i in range(1):\n",
        "    for j in range(4):\n",
        "       print({f'{a[0]} : {b[0][j]}, {a[1]} : {b[1][j]}'},end=\",\")"
      ],
      "metadata": {
        "colab": {
          "base_uri": "https://localhost:8080/"
        },
        "id": "oNIt5XOcLYkk",
        "outputId": "ef76139e-2320-4ac1-b954-aa50279d1b62"
      },
      "execution_count": null,
      "outputs": [
        {
          "output_type": "stream",
          "name": "stdout",
          "text": [
            "list asli :  [{'Mata Kuliah ': ['mtk', 'biologi', 'fisika', 'kimia'], 'language': [77, 78, 84, 80]}]\n",
            "{'Mata Kuliah  : mtk, language : 77'},{'Mata Kuliah  : biologi, language : 78'},{'Mata Kuliah  : fisika, language : 84'},{'Mata Kuliah  : kimia, language : 80'},"
          ]
        }
      ]
    },
    {
      "cell_type": "markdown",
      "source": [
        "**3. menjumlahkan 2 buah list**"
      ],
      "metadata": {
        "id": "1SLO0cBk1OAs"
      }
    },
    {
      "cell_type": "code",
      "source": [
        "a = [1,2,3,4,5,6,7,8]\n",
        "b = [2,2,3,1,2,6,7,9]\n",
        "c = []\n",
        "\n",
        "for i in range(len(a)):\n",
        "    if a[i]==b[i]:\n",
        "        c.append(a[i]) \n",
        "\n",
        "print(len(c))"
      ],
      "metadata": {
        "colab": {
          "base_uri": "https://localhost:8080/"
        },
        "id": "EkbTXYP11ZtQ",
        "outputId": "467f464b-ad47-47d7-8779-3edfe577a00b"
      },
      "execution_count": 1,
      "outputs": [
        {
          "output_type": "stream",
          "name": "stdout",
          "text": [
            "4\n"
          ]
        }
      ]
    },
    {
      "cell_type": "markdown",
      "source": [
        "# Course - Operator and Control Flow"
      ],
      "metadata": {
        "id": "A74M-aI_Lufx"
      }
    },
    {
      "cell_type": "markdown",
      "source": [
        "**1. program python yang mengeluarkan nilai dari 1 hingga 100 dengan statement**"
      ],
      "metadata": {
        "id": "BuskwqdlQB9u"
      }
    },
    {
      "cell_type": "code",
      "source": [
        "bil_awal = int(input(\"Masukan bilangan awal: \"))\n",
        "bil_akhir = int(input(\"Masukan bilangan akhir: \"))\n",
        "\n",
        "for i in range (bil_awal, bil_akhir+1):\n",
        "  if i%3==0 and i%5==0:\n",
        "    print(\"Joko widodo\")\n",
        "  elif i%5==0:\n",
        "    print(\"widodo\")\n",
        "  elif i%3==0:\n",
        "    print(\"Joko\")\n",
        "  else:\n",
        "    print(i)\n",
        "\n",
        "  i+=1\n"
      ],
      "metadata": {
        "id": "tYFO4MGxd-tL"
      },
      "execution_count": null,
      "outputs": []
    },
    {
      "cell_type": "markdown",
      "source": [
        "**2. program python untuk menampilkan segitiga bolong tengah**"
      ],
      "metadata": {
        "id": "OkuvlXY1QNh_"
      }
    },
    {
      "cell_type": "code",
      "source": [
        "bantu=0\n",
        "kosong=0\n",
        "for i in reversed(range(5)):\n",
        "    for j in range(i+1):\n",
        "        print(' ', end='')\n",
        "    for k in range(bantu+1):\n",
        "        if k==0:\n",
        "            print('*', end='')\n",
        "        else:\n",
        "            print(' ', end='')\n",
        "    for l in range(bantu):\n",
        "        if l==kosong:\n",
        "            print('*', end='')\n",
        "            kosong+=1\n",
        "        else:\n",
        "            print(' ', end='')\n",
        "    bantu+=1\n",
        "    print()\n",
        "for i in range(6):\n",
        "    print('* ', end='')"
      ],
      "metadata": {
        "colab": {
          "base_uri": "https://localhost:8080/"
        },
        "id": "rqp7Le97P4k-",
        "outputId": "ebd55a6a-1d13-40cc-f38d-f0f4af840f40"
      },
      "execution_count": 9,
      "outputs": [
        {
          "output_type": "stream",
          "name": "stdout",
          "text": [
            "     *\n",
            "    * *\n",
            "   *   *\n",
            "  *     *\n",
            " *       *\n",
            "* * * * * * "
          ]
        }
      ]
    },
    {
      "cell_type": "markdown",
      "source": [
        "# Course - Error and File Handling"
      ],
      "metadata": {
        "id": "KI0lOK29QXt_"
      }
    },
    {
      "cell_type": "markdown",
      "source": [
        "**1. program python untuk menghitung jumlah paragraf pada sebuah file text yang diinputkan**"
      ],
      "metadata": {
        "id": "_FWuC-xMQcM0"
      }
    },
    {
      "cell_type": "code",
      "source": [
        "file = open(\"DBD.txt\", \"r\")\n",
        "berita = file.read()\n",
        "\n",
        "Counter = 0\n",
        "\n",
        "paragraf = berita.split(\"\\n\")\n",
        "  \n",
        "for i in paragraf:\n",
        "    if i:\n",
        "        Counter += 1\n",
        "      \n",
        "print(berita)\n",
        "\n",
        "print(\"\\nJumlah Paragraf :\", Counter)\n"
      ],
      "metadata": {
        "id": "tF9DWCa6Klun"
      },
      "execution_count": null,
      "outputs": []
    },
    {
      "cell_type": "markdown",
      "source": [
        "**2. program untuk copy isi dari satu file ke file lainnya**\n"
      ],
      "metadata": {
        "id": "HAY3HYnYKnxO"
      }
    },
    {
      "cell_type": "code",
      "source": [
        "# import module\n",
        "import shutil\n",
        "  \n",
        "# use copyfile()\n",
        "try :\n",
        "    shutil.copyfile('DBD.txt','news.txt')\n",
        "    print('successfully copy!!!'\"\\n\")\n",
        "except : \n",
        "    print ('failed to copy')\n",
        "\n",
        "file = open(\"DBD.txt\", \"r\")\n",
        "txt = open('news.txt', 'r')\n",
        "print('FILE BERITA :'\"\\n\", file.read())\n",
        "print(\"\\n\"'FILE NEWS :'\"\\n\", txt.read())"
      ],
      "metadata": {
        "id": "oPgQhMT_Ktig"
      },
      "execution_count": null,
      "outputs": []
    },
    {
      "cell_type": "markdown",
      "source": [
        "**3. Mencari Paragraf dengan jumlah kata terbanyak disebuah text file**"
      ],
      "metadata": {
        "id": "vPBStbbNKxQG"
      }
    },
    {
      "cell_type": "code",
      "source": [
        "file = open(\"DBD.txt\", \"r\")\n",
        "\n",
        "frequent_word = \"\"\n",
        "frequency = 0 \n",
        "words = []\n",
        " \n",
        "# Traversing file line by line\n",
        "for line in file:\n",
        "     \n",
        "    # splits each line into\n",
        "    # words and removing spaces\n",
        "    # and punctuations from the input\n",
        "    line_word = line.lower().replace(',','').replace('.','').split(\" \"); \n",
        "     \n",
        "    # Adding them to list words\n",
        "    for w in line_word: \n",
        "        words.append(w); \n",
        "         \n",
        "# Finding the max occurred word\n",
        "for i in range(0, len(words)): \n",
        "     \n",
        "    # Declaring count\n",
        "    count = 1; \n",
        "     \n",
        "    # Count each word in the file \n",
        "    for j in range(i+1, len(words)): \n",
        "        if(words[i] == words[j]) : \n",
        "            count = count + 1; \n",
        " \n",
        "    # If the count value is more\n",
        "    # than highest frequency then\n",
        "    if(count > frequency): \n",
        "        frequency = count; \n",
        "        frequent_word = words[i]; \n",
        "\n",
        "\n",
        "print(\"Kata yang banyak muncul : \" , frequent_word)\n",
        "print(\"Jumlah: \" , str(frequency))\n",
        "file.close();"
      ],
      "metadata": {
        "id": "LMLgPDfwKzwy",
        "colab": {
          "base_uri": "https://localhost:8080/"
        },
        "outputId": "4a648ec7-330b-4933-aee5-6f198a77b1b6"
      },
      "execution_count": 7,
      "outputs": [
        {
          "output_type": "stream",
          "name": "stdout",
          "text": [
            "Kata yang banyak muncul :  \n",
            "\n",
            "Jumlah:  1355\n"
          ]
        }
      ]
    }
  ]
}