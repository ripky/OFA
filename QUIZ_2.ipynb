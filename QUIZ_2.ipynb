{
  "nbformat": 4,
  "nbformat_minor": 0,
  "metadata": {
    "colab": {
      "name": "QUIZ 2",
      "provenance": [],
      "collapsed_sections": [],
      "include_colab_link": true
    },
    "kernelspec": {
      "name": "python3",
      "display_name": "Python 3"
    },
    "language_info": {
      "name": "python"
    }
  },
  "cells": [
    {
      "cell_type": "markdown",
      "metadata": {
        "id": "view-in-github",
        "colab_type": "text"
      },
      "source": [
        "<a href=\"https://colab.research.google.com/github/ripky/OFA/blob/main/QUIZ_2.ipynb\" target=\"_parent\"><img src=\"https://colab.research.google.com/assets/colab-badge.svg\" alt=\"Open In Colab\"/></a>"
      ]
    },
    {
      "cell_type": "code",
      "execution_count": null,
      "metadata": {
        "colab": {
          "base_uri": "https://localhost:8080/"
        },
        "id": "UKhtRpxwIpjf",
        "outputId": "19287725-80bb-48c6-c672-76be4ee1b3c5"
      },
      "outputs": [
        {
          "output_type": "stream",
          "name": "stdout",
          "text": [
            "Requirement already satisfied: openpyxl==3.0.5 in /usr/local/lib/python3.7/dist-packages (3.0.5)\n",
            "Requirement already satisfied: et-xmlfile in /usr/local/lib/python3.7/dist-packages (from openpyxl==3.0.5) (1.1.0)\n",
            "Requirement already satisfied: jdcal in /usr/local/lib/python3.7/dist-packages (from openpyxl==3.0.5) (1.4.1)\n"
          ]
        }
      ],
      "source": [
        "pip install openpyxl==3.0.5"
      ]
    },
    {
      "cell_type": "code",
      "source": [
        "def data():\n",
        "    print('======= GAJI KARYAWAN =======')\n",
        "    print('=============================')\n",
        "    nama = input('Nama karyawan :')\n",
        "    gol = input('Golongan [A/B/C/D] :')\n",
        "    jam = int(input('Jam Kerja :'))\n",
        "\n",
        "    #menentukan jam kerja\n",
        "    if gol=='A':\n",
        "        upah = 5000*jam\n",
        "    elif gol=='B':\n",
        "        upah = 7000*jam\n",
        "    elif gol=='C':\n",
        "        upah = 8000*jam\n",
        "    else :\n",
        "        upah = 10000*jam\n",
        "\n",
        "    #Menghitung rumus \n",
        "    if jam >= 48 :\n",
        "        lembur = (jam-48)*4000\n",
        "        gaji= upah+lembur\n",
        "    else :\n",
        "        gaji= upah\n",
        "    print('Gaji yang diterima :',gaji)\n",
        "    \n",
        "    ulang = input('Apakah ingin menghitung ulang [y/t]?')\n",
        "    if ulang=='y':\n",
        "       data()\n",
        "data()"
      ],
      "metadata": {
        "colab": {
          "base_uri": "https://localhost:8080/"
        },
        "id": "YufHdNejd0Ee",
        "outputId": "86558aa3-02be-4f5a-d052-263b737fceda"
      },
      "execution_count": null,
      "outputs": [
        {
          "name": "stdout",
          "output_type": "stream",
          "text": [
            "======= GAJI KARYAWAN =======\n",
            "=============================\n",
            "Nama karyawan :p\n",
            "Golongan [A/B/C/D] :B\n",
            "Jam Kerja :49\n",
            "Gaji yang diterima : 347000\n",
            "Apakah ingin menghitung ulang [y/t]?y\n",
            "======= GAJI KARYAWAN =======\n",
            "=============================\n",
            "Nama karyawan :w\n",
            "Golongan [A/B/C/D] :A\n",
            "Jam Kerja :40\n",
            "Gaji yang diterima : 200000\n",
            "Apakah ingin menghitung ulang [y/t]?t\n"
          ]
        }
      ]
    },
    {
      "cell_type": "code",
      "source": [
        "def data():\n",
        "    nama =str(input(\"nama karyawan  :\"))\n",
        "    golongan = input(\"golongan [A/B/C/D]:\")\n",
        "    jam_kerja= int(input(\"jam kerja  :\"))\n",
        "\n",
        "\n",
        "    if golongan == 'A':\n",
        "       upah = jam_kerja*5000\n",
        "       print (\"Upah anda dari gaji anda adalah \", upah)\n",
        "       while jam_kerja >= 48:\n",
        "             uang_lembur=(jam_kerja-48)*4000\n",
        "             print (\"Anda mendapat upah sebesar \", uang_lembur)\n",
        "             print (\"Total gaji anda adalah \", upah+uang_lembur)\n",
        "             break\n",
        "       else:\n",
        "             print(\"Anda tidak mendapat Uang lembur Karena Jam kerja kurang dari 48 Jam\",jam_kerja>48)\n",
        "            \n",
        "\n",
        "    elif golongan =='B':\n",
        "        upah = jam_kerja*5000\n",
        "        print (\"Upah anda dari gaji anda adalah \", upah)\n",
        "        while jam_kerja >= 48:\n",
        "                uang_lembur=(jam_kerja-48)*4000\n",
        "                print (\"Anda mendapat upah sebesar \", uang_lembur)\n",
        "                print (\"Total gaji anda adalah \", upah+uang_lembur)\n",
        "                break\n",
        "        else:\n",
        "                print(\"Anda tidak mendapat Uang lembur Karena Jam kerja kurang dari 48 Jam\",jam_kerja>48)\n",
        "             \n",
        "\n",
        "    elif golongan =='C':\n",
        "         upah = jam_kerja*8000\n",
        "         print (\"Upah anda dari gaji anda adalah \", upah)\n",
        "         while jam_kerja >= 48:\n",
        "               uang_lembur=(jam_kerja-48)*4000\n",
        "               print (\"Anda mendapat upah sebesar \", uang_lembur)\n",
        "               print (\"Total gaji anda adalah \", upah+uang_lembur)\n",
        "               break\n",
        "         else:    \n",
        "               print(\"Anda tidak mendapat Uang lembur Karena Jam kerja kurang dari 48 Jam\",jam_kerja>48)\n",
        "              \n",
        "\n",
        "    elif golongan =='D':\n",
        "         upah = jam_kerja*10000\n",
        "         print (\"Upah anda dari gaji anda adalah \", upah)\n",
        "         while jam_kerja >= 48:\n",
        "               uang_lembur=(jam_kerja-48)*4000\n",
        "               print (\"Anda mendapat upah sebesar \", uang_lembur)\n",
        "               print (\"Total gaji anda adalah \", upah+uang_lembur)\n",
        "               break\n",
        "         else:\n",
        "               print(\"Anda tidak mendapat Uang lembur Karena Jam kerja kurang dari 48 Jam\",jam_kerja>48)\n",
        "              \n",
        "    \n",
        "    ulang = input(\"Apakah ingin menghitung ulang [y/t]?\")\n",
        "    if ulang=='y':\n",
        "        data()\n",
        "data()  "
      ],
      "metadata": {
        "colab": {
          "base_uri": "https://localhost:8080/"
        },
        "id": "jbZdE3MKXg-S",
        "outputId": "acb2d8ad-cbca-4eac-ca72-a1f6595fe1ad"
      },
      "execution_count": null,
      "outputs": [
        {
          "name": "stdout",
          "output_type": "stream",
          "text": [
            "nama karyawan  :a\n",
            "golongan [A/B/C/D]:A\n",
            "jam kerja  :50\n",
            "Upah anda dari gaji anda adalah  250000\n",
            "Anda mendapat upah sebesar  8000\n",
            "Total gaji anda adalah  258000\n",
            "Apakah ingin menghitung ulang [y/t]?y\n",
            "nama karyawan  :a\n",
            "golongan [A/B/C/D]:A\n",
            "jam kerja  :40\n",
            "Upah anda dari gaji anda adalah  200000\n",
            "Anda tidak mendapat Uang lembur Karena Jam kerja kurang dari 48 Jam False\n",
            "Apakah ingin menghitung ulang [y/t]?t\n"
          ]
        }
      ]
    },
    {
      "cell_type": "code",
      "source": [
        "string = \"\"\n",
        "bar = 1\n",
        "\n",
        "x = int(input(\"Masukkan angka :\"))\n",
        "\n",
        "# Looping Baris\n",
        "while bar <= x:\n",
        "\tkol = bar\n",
        "\n",
        "\t# Looping Kolom\n",
        "\twhile kol > 0:\n",
        "\t\tstring = string + \" * \"\n",
        "\t\tkol = kol - 1\n",
        "\t\t\n",
        "\tstring = string + \"\\n\"\n",
        "\tbar = bar + 1\n",
        "print (string)"
      ],
      "metadata": {
        "colab": {
          "base_uri": "https://localhost:8080/"
        },
        "id": "PWumleym9sAB",
        "outputId": "b1f680c6-b104-4266-e213-94c4ad23408f"
      },
      "execution_count": null,
      "outputs": [
        {
          "output_type": "stream",
          "name": "stdout",
          "text": [
            "Masukkan angka :10\n",
            " * \n",
            " *  * \n",
            " *  *  * \n",
            " *  *  *  * \n",
            " *  *  *  *  * \n",
            " *  *  *  *  *  * \n",
            " *  *  *  *  *  *  * \n",
            " *  *  *  *  *  *  *  * \n",
            " *  *  *  *  *  *  *  *  * \n",
            " *  *  *  *  *  *  *  *  *  * \n",
            "\n"
          ]
        }
      ]
    }
  ]
}