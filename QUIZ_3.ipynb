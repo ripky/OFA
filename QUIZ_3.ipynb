{
  "nbformat": 4,
  "nbformat_minor": 0,
  "metadata": {
    "colab": {
      "name": "QUIZ 3",
      "provenance": [],
      "authorship_tag": "ABX9TyPgEoDip0IKJpM7un8A7pJX",
      "include_colab_link": true
    },
    "kernelspec": {
      "name": "python3",
      "display_name": "Python 3"
    },
    "language_info": {
      "name": "python"
    }
  },
  "cells": [
    {
      "cell_type": "markdown",
      "metadata": {
        "id": "view-in-github",
        "colab_type": "text"
      },
      "source": [
        "<a href=\"https://colab.research.google.com/github/ripky/OFA/blob/main/QUIZ_3.ipynb\" target=\"_parent\"><img src=\"https://colab.research.google.com/assets/colab-badge.svg\" alt=\"Open In Colab\"/></a>"
      ]
    },
    {
      "cell_type": "markdown",
      "source": [
        "**1.menjumlahkan semua angka yang ada dalam list**"
      ],
      "metadata": {
        "id": "Bjzl1t-1ofiI"
      }
    },
    {
      "cell_type": "code",
      "source": [
        "angka=[2,5,3,4,5,4]\n",
        "jumlah=sum(angka)"
      ],
      "metadata": {
        "id": "qGnQpkevmCkT"
      },
      "execution_count": null,
      "outputs": []
    },
    {
      "cell_type": "code",
      "source": [
        "jumlah"
      ],
      "metadata": {
        "colab": {
          "base_uri": "https://localhost:8080/"
        },
        "id": "7sypeW5WnFO_",
        "outputId": "67c9a5dc-38f2-499f-e059-94d7f4e54c15"
      },
      "execution_count": null,
      "outputs": [
        {
          "output_type": "execute_result",
          "data": {
            "text/plain": [
              "23"
            ]
          },
          "metadata": {},
          "execution_count": 19
        }
      ]
    },
    {
      "cell_type": "markdown",
      "source": [
        "**2. split list character dan list string**"
      ],
      "metadata": {
        "id": "UenXdUh0oq1J"
      }
    },
    {
      "cell_type": "code",
      "source": [
        "warna =\"red\"\n",
        "print (\"sebelum di split : [{}]\".format(warna))\n",
        "split = list(warna)\n",
        "print (\"sesudah diubah : \" +  str(split))"
      ],
      "metadata": {
        "colab": {
          "base_uri": "https://localhost:8080/"
        },
        "id": "cf9BB_P0vsrR",
        "outputId": "cc823bc1-5588-437f-848d-8c865ef6c820"
      },
      "execution_count": null,
      "outputs": [
        {
          "output_type": "stream",
          "name": "stdout",
          "text": [
            "sebelum di split : [red]\n",
            "sesudah diubah : ['r', 'e', 'd']\n"
          ]
        }
      ]
    },
    {
      "cell_type": "code",
      "source": [
        "#buat list \n",
        "warna = ['red', 'blue', 'black']\n",
        "  \n",
        "\n",
        "test = list(map(list, warna))\n",
        "print(test)"
      ],
      "metadata": {
        "colab": {
          "base_uri": "https://localhost:8080/"
        },
        "id": "t2VMEVNYx1TP",
        "outputId": "4f9367e9-ea4f-4210-88ec-d410dbca1500"
      },
      "execution_count": null,
      "outputs": [
        {
          "output_type": "stream",
          "name": "stdout",
          "text": [
            "[['r', 'e', 'd'], ['b', 'l', 'u', 'e'], ['b', 'l', 'a', 'c', 'k']]\n"
          ]
        }
      ]
    },
    {
      "cell_type": "markdown",
      "source": [
        "**3. menjumlahkan 2 buah list**"
      ],
      "metadata": {
        "id": "P9oL_smdylQk"
      }
    },
    {
      "cell_type": "code",
      "source": [
        "def addition(a,b):\n",
        "    return a + b\n",
        "  \n",
        "# We double all numbers using map()\n",
        "numbers_1 = [6,5,3,9]\n",
        "numbers_2 = [0,1,7,7]\n",
        "result = map(addition, numbers1,numbers2)\n",
        "print(list(result))"
      ],
      "metadata": {
        "colab": {
          "base_uri": "https://localhost:8080/"
        },
        "id": "OwYal005zLln",
        "outputId": "e11c4631-c5bc-40b5-fd11-a89da22a1c97"
      },
      "execution_count": null,
      "outputs": [
        {
          "output_type": "stream",
          "name": "stdout",
          "text": [
            "[6, 6, 10, 16]\n"
          ]
        }
      ]
    },
    {
      "cell_type": "markdown",
      "source": [
        "**4. memisahkan billangan ganjil dan genap pada list**"
      ],
      "metadata": {
        "id": "SpuSK3KXB5R8"
      }
    },
    {
      "cell_type": "code",
      "source": [
        "bil_awal = int(input(\"Masukan bilangan awal: \"))\n",
        "bil_akhir = int(input(\"Masukan bilangan akhir: \"))\n",
        " \n",
        "list_bil = [i for i in range(bil_awal, bil_akhir +1 )]\n",
        "print('Daftar bilangan: {}'.format(list_bil))\n",
        " \n",
        "bil_genap = []\n",
        "bil_ganjil = []\n",
        " \n",
        "for bil in list_bil:\n",
        "    if bil % 2 == 0:\n",
        "        bil_genap.append(bil)\n",
        "    else:\n",
        "        bil_ganjil.append(bil)\n",
        " \n",
        "print('genap: [{}]'.format(', '.join([str(bil) for bil in bil_genap])))\n",
        "print('ganjil: [{}]'.format(', '.join([str(bil) for bil in bil_ganjil])))"
      ],
      "metadata": {
        "colab": {
          "base_uri": "https://localhost:8080/"
        },
        "id": "nbkK9fsR_tID",
        "outputId": "46df3915-7077-43c1-dfc7-c23787acd39b"
      },
      "execution_count": null,
      "outputs": [
        {
          "output_type": "stream",
          "name": "stdout",
          "text": [
            "Masukan bilangan awal: 1\n",
            "Masukan bilangan akhir: 20\n",
            "Daftar bilangan: [1, 2, 3, 4, 5, 6, 7, 8, 9, 10, 11, 12, 13, 14, 15, 16, 17, 18, 19, 20]\n",
            "genap: [2, 4, 6, 8, 10, 12, 14, 16, 18, 20]\n",
            "ganjil: [1, 3, 5, 7, 9, 11, 13, 15, 17, 19]\n"
          ]
        }
      ]
    }
  ]
}