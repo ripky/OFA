{
  "nbformat": 4,
  "nbformat_minor": 0,
  "metadata": {
    "colab": {
      "name": "QUIZZ 1.ipynb",
      "provenance": [],
      "authorship_tag": "ABX9TyMQsFDOrSpmthyE9XK0iCAS",
      "include_colab_link": true
    },
    "kernelspec": {
      "name": "python3",
      "display_name": "Python 3"
    },
    "language_info": {
      "name": "python"
    },
    "accelerator": "GPU"
  },
  "cells": [
    {
      "cell_type": "markdown",
      "metadata": {
        "id": "view-in-github",
        "colab_type": "text"
      },
      "source": [
        "<a href=\"https://colab.research.google.com/github/ripky/OFA/blob/main/QUIZ_1.ipynb\" target=\"_parent\"><img src=\"https://colab.research.google.com/assets/colab-badge.svg\" alt=\"Open In Colab\"/></a>"
      ]
    },
    {
      "cell_type": "markdown",
      "source": [
        "**1.CARA MENGKONVERSIKAN SUHU**"
      ],
      "metadata": {
        "id": "HWwC0nsc1utt"
      }
    },
    {
      "cell_type": "code",
      "source": [
        "print(\"=====Konversi Celcius=====\")\n",
        "\n",
        "celcius = 74 # ANGKA SEBAGAI CONTOH\n",
        "fahrenheit = (9 / 5) * celcius + 32\n",
        "reamur = (4 / 5) * celcius\n",
        "kelvin = celcius + 273.15"
      ],
      "metadata": {
        "colab": {
          "base_uri": "https://localhost:8080/"
        },
        "id": "Qk-Yv9oo1m_H",
        "outputId": "0b01c15d-01d8-4c51-b6a4-ffb33a6dee7c"
      },
      "execution_count": null,
      "outputs": [
        {
          "output_type": "stream",
          "name": "stdout",
          "text": [
            "=====Konversi Celcius=====\n"
          ]
        }
      ]
    },
    {
      "cell_type": "code",
      "source": [
        "print(\"=====input nilai celcius=====\")\n",
        "celcius = float(input(\"Masukkan nilai Celcius : \"))"
      ],
      "metadata": {
        "colab": {
          "base_uri": "https://localhost:8080/"
        },
        "id": "2mfXVP9c7Et9",
        "outputId": "293286b2-7abe-4b3a-ea0e-589e75150152"
      },
      "execution_count": null,
      "outputs": [
        {
          "name": "stdout",
          "output_type": "stream",
          "text": [
            "=====input nilai celcius=====\n",
            "Masukkan nilai Celcius : 10\n"
          ]
        }
      ]
    },
    {
      "cell_type": "code",
      "source": [
        "#print hasil\n",
        "print(\"Nilai dalam fahrenheit :\", fahrenheit, \"C\")\n",
        "print(\"Nilai dalam reamur :\", reamur, \"R\")\n",
        "print(\"Nilai dalam Kelvin :\", kelvin, \"K\")"
      ],
      "metadata": {
        "colab": {
          "base_uri": "https://localhost:8080/"
        },
        "id": "YSDRngs17Yic",
        "outputId": "b329c0ed-607f-40dd-e1ab-ebadeed8289e"
      },
      "execution_count": null,
      "outputs": [
        {
          "output_type": "stream",
          "name": "stdout",
          "text": [
            "Nilai dalam fahrenheit : 165.20000000000002 C\n",
            "Nilai dalam reamur : 59.2 R\n",
            "Nilai dalam Kelvin : 347.15 K\n"
          ]
        }
      ]
    },
    {
      "cell_type": "code",
      "source": [
        "print(\"=====Konversi Fahrenheit=====\")\n",
        "\n",
        "#rumus konversi \n",
        "celcius = (5 / 9) * (fahrenheit - 32)\n",
        "reamur = (4 / 9) * (fahrenheit - 32)\n",
        "kelvin = (5 / 9) * (fahrenheit - 32) + 273"
      ],
      "metadata": {
        "colab": {
          "base_uri": "https://localhost:8080/"
        },
        "id": "9lY1IiVO2KI8",
        "outputId": "eb4d4db7-ecb8-40cd-df0a-6d697f426e56"
      },
      "execution_count": null,
      "outputs": [
        {
          "output_type": "stream",
          "name": "stdout",
          "text": [
            "=====Konversi Fahrenheit=====\n"
          ]
        }
      ]
    },
    {
      "cell_type": "code",
      "source": [
        "fahrenheit = float(input(\"Masukkan nilai Fahrenheit : \"))"
      ],
      "metadata": {
        "colab": {
          "base_uri": "https://localhost:8080/"
        },
        "id": "cGk5od1hHD1T",
        "outputId": "eead98f4-25c3-45af-8233-3d89ac77f2f3"
      },
      "execution_count": null,
      "outputs": [
        {
          "name": "stdout",
          "output_type": "stream",
          "text": [
            "Masukkan nilai Fahrenheit : 10\n"
          ]
        }
      ]
    },
    {
      "cell_type": "code",
      "source": [
        "print(\"Nilai dalam Celcius :\", celcius, \"C\")\n",
        "print(\"Nilai dalam reamur :\", reamur, \"R\")\n",
        "print(\"Nilai dalam Kelvin :\", kelvin, \"K\")"
      ],
      "metadata": {
        "colab": {
          "base_uri": "https://localhost:8080/"
        },
        "id": "yzxiRjn3HLVK",
        "outputId": "7849c395-505a-44ca-9288-2d2900923306"
      },
      "execution_count": null,
      "outputs": [
        {
          "output_type": "stream",
          "name": "stdout",
          "text": [
            "Nilai dalam Celcius : 74.00000000000001 C\n",
            "Nilai dalam reamur : 59.2 R\n",
            "Nilai dalam Kelvin : 347.0 K\n"
          ]
        }
      ]
    },
    {
      "cell_type": "code",
      "source": [
        "print(\"\\n=====Konversi Reamur=====\")\n",
        "\n",
        "#rumus konversi\n",
        "celcius = (5 / 4) * reamur\n",
        "fahrenheit = (9 / 4) * reamur + 32\n",
        "kelvin = (5 / 4) * reamur + 273"
      ],
      "metadata": {
        "colab": {
          "base_uri": "https://localhost:8080/"
        },
        "id": "BYcjfVFe2OhM",
        "outputId": "dc6f5082-918b-48e4-b720-99fa2f3f360e"
      },
      "execution_count": null,
      "outputs": [
        {
          "output_type": "stream",
          "name": "stdout",
          "text": [
            "\n",
            "=====Konversi Reamur=====\n"
          ]
        }
      ]
    },
    {
      "cell_type": "code",
      "source": [
        "reamur = float(input(\"Masukkan nilai Reamur : \"))"
      ],
      "metadata": {
        "colab": {
          "base_uri": "https://localhost:8080/"
        },
        "id": "yDQp4-MZHPvr",
        "outputId": "cc972637-0c18-4934-9fb6-ce8b5368283c"
      },
      "execution_count": null,
      "outputs": [
        {
          "name": "stdout",
          "output_type": "stream",
          "text": [
            "Masukkan nilai Reamur : 10\n"
          ]
        }
      ]
    },
    {
      "cell_type": "code",
      "source": [
        "print(\"Nilai Celcius : \", celcius, \"C\")\n",
        "print(\"Nilai dalam fahrenheit :\", fahrenheit, \"F\")\n",
        "print(\"Nilai dalam Kelvin :\", kelvin, \"K\")"
      ],
      "metadata": {
        "colab": {
          "base_uri": "https://localhost:8080/"
        },
        "id": "9n2EnzIeHVkM",
        "outputId": "6c6981bc-567f-4418-b03f-1d88a4fe6789"
      },
      "execution_count": null,
      "outputs": [
        {
          "output_type": "stream",
          "name": "stdout",
          "text": [
            "Nilai Celcius :  74.0 C\n",
            "Nilai dalam fahrenheit : 165.20000000000002 F\n",
            "Nilai dalam Kelvin : 347.0 K\n"
          ]
        }
      ]
    },
    {
      "cell_type": "code",
      "source": [
        "print(\"=====Konversi Kelvin=====\")\n",
        "\n",
        "#kelvin = 62  ANGKA SEBAGAI CONTOH\n",
        "celcius = kelvin - 273\n",
        "fahrenheit = (9 / 5) * (kelvin - 273) + 32\n",
        "reamur = (4 / 5) * (kelvin - 273)"
      ],
      "metadata": {
        "colab": {
          "base_uri": "https://localhost:8080/"
        },
        "id": "vctQWmwT2RKU",
        "outputId": "04edb2d8-40f8-4d95-b71d-d803a25eb00b"
      },
      "execution_count": null,
      "outputs": [
        {
          "output_type": "stream",
          "name": "stdout",
          "text": [
            "=====Konversi Kelvin=====\n"
          ]
        }
      ]
    },
    {
      "cell_type": "code",
      "source": [
        "kelvin = float(input(\"Masukkan nilai Kelvin : \"))"
      ],
      "metadata": {
        "colab": {
          "base_uri": "https://localhost:8080/"
        },
        "id": "ND_2HYlsHXR6",
        "outputId": "ca8a5fdb-11a6-422e-edf9-bf7204539e52"
      },
      "execution_count": null,
      "outputs": [
        {
          "name": "stdout",
          "output_type": "stream",
          "text": [
            "Masukkan nilai Kelvin : 10\n"
          ]
        }
      ]
    },
    {
      "cell_type": "code",
      "source": [
        "print(\"Nilai Celcius : \", celcius, \"C\")\n",
        "print(\"Nilai dalam fahrenheit :\", fahrenheit, \"F\")\n",
        "print(\"Nilai dalam reamur :\", reamur, \"K\")"
      ],
      "metadata": {
        "colab": {
          "base_uri": "https://localhost:8080/"
        },
        "id": "LHcSWWo6HrKr",
        "outputId": "71808499-a50f-4ea2-b5b7-8a9f37220288"
      },
      "execution_count": null,
      "outputs": [
        {
          "output_type": "stream",
          "name": "stdout",
          "text": [
            "Nilai Celcius :  74.0 C\n",
            "Nilai dalam fahrenheit : 165.20000000000002 F\n",
            "Nilai dalam reamur : 59.2 K\n"
          ]
        }
      ]
    },
    {
      "cell_type": "markdown",
      "source": [
        "**2.INPUT DATA**"
      ],
      "metadata": {
        "id": "z5N8f63UH0i7"
      }
    },
    {
      "cell_type": "code",
      "source": [
        "print(\"=====DATA MAHASISWA=====\")\n",
        "str(input(\"NAMA   : \"))\n",
        "str(input(\"NIM   : \"))\n",
        "str(input(\"FAKULTAS   : \"))\n",
        "str(input(\"JURUSAN   : \"))\n",
        "str(input(\"ASAL KOTA   : \"))\n",
        "str(input(\"ALAMAT   : \"))\n",
        "print(\"selasai\")"
      ],
      "metadata": {
        "colab": {
          "base_uri": "https://localhost:8080/"
        },
        "id": "9NNgPvdwHzs1",
        "outputId": "34a29877-beaf-4f15-87c4-a16bf0530d7b"
      },
      "execution_count": null,
      "outputs": [
        {
          "output_type": "stream",
          "name": "stdout",
          "text": [
            "=====DATA MAHASISWA=====\n",
            "NAMA   : AHMAD\n",
            "NIM   : ********\n",
            "FAKULTAS   : MIPA\n",
            "JURUSAN   : KIMIA\n",
            "ASAL KOTA   : SEMARANG\n",
            "ALAMAT   : CANDI\n",
            "selasai\n"
          ]
        }
      ]
    },
    {
      "cell_type": "code",
      "source": [
        "data_mahasiswa = {\n",
        "    \"NAMA\":\"\",\n",
        "    \"NIM\":\"\",\n",
        "    \"FAKULTAS\":\"\",\n",
        "    \"ASAL_KOTA\":\"\",\n",
        "    \"ALAMAT\":\"\"\n",
        "}"
      ],
      "metadata": {
        "id": "0gfJ2JFVzgP4"
      },
      "execution_count": 2,
      "outputs": []
    },
    {
      "cell_type": "code",
      "source": [
        "data_mahasiswa [\"NAMA\"]=str(input(\"NAMA :\"))\n",
        "data_mahasiswa [\"NIM\"] =str(input(\"NIM :\"))\n",
        "data_mahasiswa [\"FAKULTAS\"] =str(input(\"FAKULTAS :\"))\n",
        "data_mahasiswa [\"ASAL_KOTA\"] =str(input(\"ASAL_KOTA :\")) \n",
        "data_mahasiswa [\"ALAMAT\"] =str(input(\"ALAMAT :\")) "
      ],
      "metadata": {
        "colab": {
          "base_uri": "https://localhost:8080/"
        },
        "id": "eo2c88xs0389",
        "outputId": "9912be9e-9fe0-4828-bd87-21be058d876c"
      },
      "execution_count": 9,
      "outputs": [
        {
          "name": "stdout",
          "output_type": "stream",
          "text": [
            "NAMA :kyy\n",
            "NIM :247142767\n"
          ]
        }
      ]
    },
    {
      "cell_type": "code",
      "source": [
        "data_mahasiswa"
      ],
      "metadata": {
        "id": "yzxONhbf1ZIP",
        "colab": {
          "base_uri": "https://localhost:8080/"
        },
        "outputId": "d18f6735-5e56-4d14-c8f8-fe942039ae8b"
      },
      "execution_count": 10,
      "outputs": [
        {
          "output_type": "execute_result",
          "data": {
            "text/plain": [
              "{'ALAMAT': '',\n",
              " 'ASAL_KOTA': '',\n",
              " 'FAKULTAS': '',\n",
              " 'NAMA': 'kyy',\n",
              " 'NIM': '247142767'}"
            ]
          },
          "metadata": {},
          "execution_count": 10
        }
      ]
    },
    {
      "cell_type": "markdown",
      "source": [
        "**3.KODE PROGRAM PERSAMAAN**"
      ],
      "metadata": {
        "id": "xN0jAl7QJffL"
      }
    },
    {
      "cell_type": "code",
      "source": [
        "from cmath import sqrt"
      ],
      "metadata": {
        "id": "1z7KTI8fK84U"
      },
      "execution_count": null,
      "outputs": []
    },
    {
      "cell_type": "code",
      "source": [
        "print(\"persamaan=ax^2+bx+c\")"
      ],
      "metadata": {
        "id": "iLoYXD-ZJzVQ"
      },
      "execution_count": null,
      "outputs": []
    },
    {
      "cell_type": "code",
      "source": [
        "a = int(input('Masukkan a: '))\n",
        "b = int(input('Masukkan b: '))\n",
        "c = int(input('Masukkan c: '))"
      ],
      "metadata": {
        "id": "U4mA4COfLC32"
      },
      "execution_count": null,
      "outputs": []
    },
    {
      "cell_type": "code",
      "source": [
        "d = (b**2) - (4*a*c)"
      ],
      "metadata": {
        "id": "wx6bwqfYLHk0"
      },
      "execution_count": null,
      "outputs": []
    },
    {
      "cell_type": "code",
      "source": [
        "x1 = (-b+sqrt(d))/(2*a)\n",
        "x2 = (-b-sqrt(d))/(2*a)"
      ],
      "metadata": {
        "id": "a_VMStajLMU8"
      },
      "execution_count": null,
      "outputs": []
    },
    {
      "cell_type": "code",
      "source": [
        "print('Solusinya adalah {0} dan {1}'.format(x1, x2))"
      ],
      "metadata": {
        "id": "oe7Gps3JLPeq"
      },
      "execution_count": null,
      "outputs": []
    },
    {
      "cell_type": "markdown",
      "source": [
        "**4.cara membuat menu berulang**"
      ],
      "metadata": {
        "id": "6T-Cw_4COfFT"
      }
    },
    {
      "cell_type": "code",
      "source": [
        "print(\"##  daftar menu kopi ilkom  ##\")\n",
        "print(\"\\n\")\n",
        "print(\"1.espresso\")\n",
        "print(\"2.cappuccino\")\n",
        "print(\"3.vanilla latte\")\n",
        "print(\"4.hazelnut latte\")"
      ],
      "metadata": {
        "id": "pD1BbHuNR2xS"
      },
      "execution_count": null,
      "outputs": []
    },
    {
      "cell_type": "code",
      "source": [
        "def show_menu() :\n",
        "    print (\"##  daftar menu kopi ilkom  ##\")\n",
        "    print (\"==============================\")\n",
        "    print (\"1.espresso\")\n",
        "    print (\"2.cappuccino\")\n",
        "    print (\"3.vanilla latte\")\n",
        "    print (\"4.hazelnut latte\")\n",
        "    print (\"==============================\")\n",
        "\n",
        "    menu=int(input(\"masukan angka sesuai pilihan anda :\"))\n",
        "\n",
        "    if menu==1:\n",
        "       print(\"anda memilih espresso\")\n",
        "    elif menu==2:\n",
        "         print(\"anda memilih cappuccino\")\n",
        "    elif menu==3:\n",
        "         print(\"vanilla latte\")\n",
        "    elif menu==4:\n",
        "         print(\"hazelnut latte\")\n",
        "    else :\n",
        "          print(\"tidak ada di menu tersebut!!\")\n",
        "    lanjut_beli = input(\"Ingin membeli lagi? <y/n>\")\n",
        "    if lanjut_beli.lower() == \"y\":\n",
        "          show_menu()\n",
        "show_menu()"
      ],
      "metadata": {
        "id": "BbCrDekzOkba"
      },
      "execution_count": null,
      "outputs": []
    }
  ]
}