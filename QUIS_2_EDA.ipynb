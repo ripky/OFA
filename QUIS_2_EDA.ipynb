{
  "nbformat": 4,
  "nbformat_minor": 0,
  "metadata": {
    "colab": {
      "name": "QUIS 2_EDA ",
      "provenance": [],
      "authorship_tag": "ABX9TyN5GFRydYo2kwIpIYqanszt",
      "include_colab_link": true
    },
    "kernelspec": {
      "name": "python3",
      "display_name": "Python 3"
    },
    "language_info": {
      "name": "python"
    }
  },
  "cells": [
    {
      "cell_type": "markdown",
      "metadata": {
        "id": "view-in-github",
        "colab_type": "text"
      },
      "source": [
        "<a href=\"https://colab.research.google.com/github/ripky/OFA/blob/main/QUIS_2_EDA.ipynb\" target=\"_parent\"><img src=\"https://colab.research.google.com/assets/colab-badge.svg\" alt=\"Open In Colab\"/></a>"
      ]
    },
    {
      "cell_type": "code",
      "execution_count": 2,
      "metadata": {
        "id": "jfr_4FRgyojz"
      },
      "outputs": [],
      "source": [
        "#import packages \n",
        "import pandas as pd \n",
        "import numpy as np\n",
        "import matplotlib.pyplot as plt \n",
        "import seaborn as sns"
      ]
    },
    {
      "cell_type": "code",
      "source": [
        "#upload files menggunakan packages \n",
        "from google.colab import files\n",
        "upload = files.upload()\n",
        "upload"
      ],
      "metadata": {
        "id": "PpNCs0BmzNLB"
      },
      "execution_count": null,
      "outputs": []
    },
    {
      "cell_type": "code",
      "source": [
        "#panggil masing masing data/read\n",
        "Transactions= pd.read_csv('Transactions.csv')\n",
        "Customer =pd.read_csv('Customer.csv')\n",
        "Prod = pd.read_csv('prod_cat_info.csv')"
      ],
      "metadata": {
        "id": "rO8r9AVL5hzm"
      },
      "execution_count": 5,
      "outputs": []
    },
    {
      "cell_type": "code",
      "source": [
        "#gabungkan data dengan fungsi merge\n",
        "transaction_customer = pd.merge(Transactions,Customer,left_on='cust_id',right_on='customer_Id')\n",
        "data = pd.merge(transaction_customer,Prod,left_on=['prod_subcat_code','prod_cat_code'] ,right_on=['prod_cat_code', 'prod_cat_code'])"
      ],
      "metadata": {
        "id": "U1TNYIigzimN"
      },
      "execution_count": 6,
      "outputs": []
    },
    {
      "cell_type": "code",
      "source": [
        "#print data\n",
        "data"
      ],
      "metadata": {
        "id": "ElrFRa777bug"
      },
      "execution_count": null,
      "outputs": []
    },
    {
      "cell_type": "code",
      "source": [
        "#cek data yang hilang \n",
        "data.isna().sum()"
      ],
      "metadata": {
        "colab": {
          "base_uri": "https://localhost:8080/"
        },
        "id": "b1RwuyMnz_WF",
        "outputId": "f914e3b0-7c7e-43c6-a5d4-ceac7d149943"
      },
      "execution_count": 7,
      "outputs": [
        {
          "output_type": "execute_result",
          "data": {
            "text/plain": [
              "transaction_id       0\n",
              "cust_id              0\n",
              "tran_date            0\n",
              "prod_subcat_code     0\n",
              "prod_cat_code        0\n",
              "Qty                  0\n",
              "Rate                 0\n",
              "Tax                  0\n",
              "total_amt            0\n",
              "Store_type           0\n",
              "customer_Id          0\n",
              "DOB                  0\n",
              "Gender               6\n",
              "city_code            0\n",
              "prod_cat             0\n",
              "prod_sub_cat_code    0\n",
              "prod_subcat          0\n",
              "dtype: int64"
            ]
          },
          "metadata": {},
          "execution_count": 7
        }
      ]
    },
    {
      "cell_type": "code",
      "source": [
        "#menghapus kolom data yang hilang \n",
        "data.dropna(inplace=True)"
      ],
      "metadata": {
        "id": "0Xg6gKXn0M1d"
      },
      "execution_count": 8,
      "outputs": []
    },
    {
      "cell_type": "code",
      "source": [
        "#cek kembali data yang kosong\n",
        "data.isna().sum()"
      ],
      "metadata": {
        "colab": {
          "base_uri": "https://localhost:8080/"
        },
        "id": "9iQEeLNz0Vb3",
        "outputId": "78d2753f-13c7-4057-cfab-82dab79cdee0"
      },
      "execution_count": 9,
      "outputs": [
        {
          "output_type": "execute_result",
          "data": {
            "text/plain": [
              "transaction_id       0\n",
              "cust_id              0\n",
              "tran_date            0\n",
              "prod_subcat_code     0\n",
              "prod_cat_code        0\n",
              "Qty                  0\n",
              "Rate                 0\n",
              "Tax                  0\n",
              "total_amt            0\n",
              "Store_type           0\n",
              "customer_Id          0\n",
              "DOB                  0\n",
              "Gender               0\n",
              "city_code            0\n",
              "prod_cat             0\n",
              "prod_sub_cat_code    0\n",
              "prod_subcat          0\n",
              "dtype: int64"
            ]
          },
          "metadata": {},
          "execution_count": 9
        }
      ]
    },
    {
      "cell_type": "code",
      "source": [
        "#mendiskripsikan data keseluruhan \n",
        "data.describe()"
      ],
      "metadata": {
        "colab": {
          "base_uri": "https://localhost:8080/",
          "height": 300
        },
        "id": "CHmIPBAc1DOf",
        "outputId": "751ffcf2-ff84-4b71-806a-06590f240ab8"
      },
      "execution_count": 10,
      "outputs": [
        {
          "output_type": "execute_result",
          "data": {
            "text/html": [
              "\n",
              "  <div id=\"df-8919d395-89b1-4852-82a5-41b812871ca2\">\n",
              "    <div class=\"colab-df-container\">\n",
              "      <div>\n",
              "<style scoped>\n",
              "    .dataframe tbody tr th:only-of-type {\n",
              "        vertical-align: middle;\n",
              "    }\n",
              "\n",
              "    .dataframe tbody tr th {\n",
              "        vertical-align: top;\n",
              "    }\n",
              "\n",
              "    .dataframe thead th {\n",
              "        text-align: right;\n",
              "    }\n",
              "</style>\n",
              "<table border=\"1\" class=\"dataframe\">\n",
              "  <thead>\n",
              "    <tr style=\"text-align: right;\">\n",
              "      <th></th>\n",
              "      <th>transaction_id</th>\n",
              "      <th>cust_id</th>\n",
              "      <th>prod_subcat_code</th>\n",
              "      <th>prod_cat_code</th>\n",
              "      <th>Qty</th>\n",
              "      <th>Rate</th>\n",
              "      <th>Tax</th>\n",
              "      <th>total_amt</th>\n",
              "      <th>customer_Id</th>\n",
              "      <th>city_code</th>\n",
              "      <th>prod_sub_cat_code</th>\n",
              "    </tr>\n",
              "  </thead>\n",
              "  <tbody>\n",
              "    <tr>\n",
              "      <th>count</th>\n",
              "      <td>4.999000e+03</td>\n",
              "      <td>4999.000000</td>\n",
              "      <td>4999.000000</td>\n",
              "      <td>4999.000000</td>\n",
              "      <td>4999.000000</td>\n",
              "      <td>4999.000000</td>\n",
              "      <td>4999.000000</td>\n",
              "      <td>4999.000000</td>\n",
              "      <td>4999.000000</td>\n",
              "      <td>4999.000000</td>\n",
              "      <td>4999.000000</td>\n",
              "    </tr>\n",
              "    <tr>\n",
              "      <th>mean</th>\n",
              "      <td>5.060428e+10</td>\n",
              "      <td>271024.033607</td>\n",
              "      <td>2.194239</td>\n",
              "      <td>2.194239</td>\n",
              "      <td>2.375475</td>\n",
              "      <td>614.177636</td>\n",
              "      <td>252.054401</td>\n",
              "      <td>2049.678846</td>\n",
              "      <td>271024.033607</td>\n",
              "      <td>5.613923</td>\n",
              "      <td>2.600320</td>\n",
              "    </tr>\n",
              "    <tr>\n",
              "      <th>std</th>\n",
              "      <td>2.893407e+10</td>\n",
              "      <td>2431.523746</td>\n",
              "      <td>1.468653</td>\n",
              "      <td>1.468653</td>\n",
              "      <td>2.382754</td>\n",
              "      <td>636.137375</td>\n",
              "      <td>190.819457</td>\n",
              "      <td>2620.721577</td>\n",
              "      <td>2431.523746</td>\n",
              "      <td>2.859203</td>\n",
              "      <td>1.356106</td>\n",
              "    </tr>\n",
              "    <tr>\n",
              "      <th>min</th>\n",
              "      <td>1.086136e+07</td>\n",
              "      <td>266794.000000</td>\n",
              "      <td>1.000000</td>\n",
              "      <td>1.000000</td>\n",
              "      <td>-5.000000</td>\n",
              "      <td>-1488.000000</td>\n",
              "      <td>7.455000</td>\n",
              "      <td>-8154.900000</td>\n",
              "      <td>266794.000000</td>\n",
              "      <td>1.000000</td>\n",
              "      <td>1.000000</td>\n",
              "    </tr>\n",
              "    <tr>\n",
              "      <th>25%</th>\n",
              "      <td>2.625969e+10</td>\n",
              "      <td>268969.000000</td>\n",
              "      <td>1.000000</td>\n",
              "      <td>1.000000</td>\n",
              "      <td>1.000000</td>\n",
              "      <td>293.000000</td>\n",
              "      <td>94.710000</td>\n",
              "      <td>704.990000</td>\n",
              "      <td>268969.000000</td>\n",
              "      <td>3.000000</td>\n",
              "      <td>1.000000</td>\n",
              "    </tr>\n",
              "    <tr>\n",
              "      <th>50%</th>\n",
              "      <td>5.007761e+10</td>\n",
              "      <td>271004.000000</td>\n",
              "      <td>1.000000</td>\n",
              "      <td>1.000000</td>\n",
              "      <td>3.000000</td>\n",
              "      <td>670.000000</td>\n",
              "      <td>202.230000</td>\n",
              "      <td>1720.485000</td>\n",
              "      <td>271004.000000</td>\n",
              "      <td>6.000000</td>\n",
              "      <td>3.000000</td>\n",
              "    </tr>\n",
              "    <tr>\n",
              "      <th>75%</th>\n",
              "      <td>7.610854e+10</td>\n",
              "      <td>273172.000000</td>\n",
              "      <td>4.000000</td>\n",
              "      <td>4.000000</td>\n",
              "      <td>4.000000</td>\n",
              "      <td>1102.500000</td>\n",
              "      <td>367.605000</td>\n",
              "      <td>3552.575000</td>\n",
              "      <td>273172.000000</td>\n",
              "      <td>8.000000</td>\n",
              "      <td>4.000000</td>\n",
              "    </tr>\n",
              "    <tr>\n",
              "      <th>max</th>\n",
              "      <td>9.998675e+10</td>\n",
              "      <td>275261.000000</td>\n",
              "      <td>4.000000</td>\n",
              "      <td>4.000000</td>\n",
              "      <td>5.000000</td>\n",
              "      <td>1499.000000</td>\n",
              "      <td>786.975000</td>\n",
              "      <td>8281.975000</td>\n",
              "      <td>275261.000000</td>\n",
              "      <td>10.000000</td>\n",
              "      <td>4.000000</td>\n",
              "    </tr>\n",
              "  </tbody>\n",
              "</table>\n",
              "</div>\n",
              "      <button class=\"colab-df-convert\" onclick=\"convertToInteractive('df-8919d395-89b1-4852-82a5-41b812871ca2')\"\n",
              "              title=\"Convert this dataframe to an interactive table.\"\n",
              "              style=\"display:none;\">\n",
              "        \n",
              "  <svg xmlns=\"http://www.w3.org/2000/svg\" height=\"24px\"viewBox=\"0 0 24 24\"\n",
              "       width=\"24px\">\n",
              "    <path d=\"M0 0h24v24H0V0z\" fill=\"none\"/>\n",
              "    <path d=\"M18.56 5.44l.94 2.06.94-2.06 2.06-.94-2.06-.94-.94-2.06-.94 2.06-2.06.94zm-11 1L8.5 8.5l.94-2.06 2.06-.94-2.06-.94L8.5 2.5l-.94 2.06-2.06.94zm10 10l.94 2.06.94-2.06 2.06-.94-2.06-.94-.94-2.06-.94 2.06-2.06.94z\"/><path d=\"M17.41 7.96l-1.37-1.37c-.4-.4-.92-.59-1.43-.59-.52 0-1.04.2-1.43.59L10.3 9.45l-7.72 7.72c-.78.78-.78 2.05 0 2.83L4 21.41c.39.39.9.59 1.41.59.51 0 1.02-.2 1.41-.59l7.78-7.78 2.81-2.81c.8-.78.8-2.07 0-2.86zM5.41 20L4 18.59l7.72-7.72 1.47 1.35L5.41 20z\"/>\n",
              "  </svg>\n",
              "      </button>\n",
              "      \n",
              "  <style>\n",
              "    .colab-df-container {\n",
              "      display:flex;\n",
              "      flex-wrap:wrap;\n",
              "      gap: 12px;\n",
              "    }\n",
              "\n",
              "    .colab-df-convert {\n",
              "      background-color: #E8F0FE;\n",
              "      border: none;\n",
              "      border-radius: 50%;\n",
              "      cursor: pointer;\n",
              "      display: none;\n",
              "      fill: #1967D2;\n",
              "      height: 32px;\n",
              "      padding: 0 0 0 0;\n",
              "      width: 32px;\n",
              "    }\n",
              "\n",
              "    .colab-df-convert:hover {\n",
              "      background-color: #E2EBFA;\n",
              "      box-shadow: 0px 1px 2px rgba(60, 64, 67, 0.3), 0px 1px 3px 1px rgba(60, 64, 67, 0.15);\n",
              "      fill: #174EA6;\n",
              "    }\n",
              "\n",
              "    [theme=dark] .colab-df-convert {\n",
              "      background-color: #3B4455;\n",
              "      fill: #D2E3FC;\n",
              "    }\n",
              "\n",
              "    [theme=dark] .colab-df-convert:hover {\n",
              "      background-color: #434B5C;\n",
              "      box-shadow: 0px 1px 3px 1px rgba(0, 0, 0, 0.15);\n",
              "      filter: drop-shadow(0px 1px 2px rgba(0, 0, 0, 0.3));\n",
              "      fill: #FFFFFF;\n",
              "    }\n",
              "  </style>\n",
              "\n",
              "      <script>\n",
              "        const buttonEl =\n",
              "          document.querySelector('#df-8919d395-89b1-4852-82a5-41b812871ca2 button.colab-df-convert');\n",
              "        buttonEl.style.display =\n",
              "          google.colab.kernel.accessAllowed ? 'block' : 'none';\n",
              "\n",
              "        async function convertToInteractive(key) {\n",
              "          const element = document.querySelector('#df-8919d395-89b1-4852-82a5-41b812871ca2');\n",
              "          const dataTable =\n",
              "            await google.colab.kernel.invokeFunction('convertToInteractive',\n",
              "                                                     [key], {});\n",
              "          if (!dataTable) return;\n",
              "\n",
              "          const docLinkHtml = 'Like what you see? Visit the ' +\n",
              "            '<a target=\"_blank\" href=https://colab.research.google.com/notebooks/data_table.ipynb>data table notebook</a>'\n",
              "            + ' to learn more about interactive tables.';\n",
              "          element.innerHTML = '';\n",
              "          dataTable['output_type'] = 'display_data';\n",
              "          await google.colab.output.renderOutput(dataTable, element);\n",
              "          const docLink = document.createElement('div');\n",
              "          docLink.innerHTML = docLinkHtml;\n",
              "          element.appendChild(docLink);\n",
              "        }\n",
              "      </script>\n",
              "    </div>\n",
              "  </div>\n",
              "  "
            ],
            "text/plain": [
              "       transaction_id        cust_id  prod_subcat_code  prod_cat_code  \\\n",
              "count    4.999000e+03    4999.000000       4999.000000    4999.000000   \n",
              "mean     5.060428e+10  271024.033607          2.194239       2.194239   \n",
              "std      2.893407e+10    2431.523746          1.468653       1.468653   \n",
              "min      1.086136e+07  266794.000000          1.000000       1.000000   \n",
              "25%      2.625969e+10  268969.000000          1.000000       1.000000   \n",
              "50%      5.007761e+10  271004.000000          1.000000       1.000000   \n",
              "75%      7.610854e+10  273172.000000          4.000000       4.000000   \n",
              "max      9.998675e+10  275261.000000          4.000000       4.000000   \n",
              "\n",
              "               Qty         Rate          Tax    total_amt    customer_Id  \\\n",
              "count  4999.000000  4999.000000  4999.000000  4999.000000    4999.000000   \n",
              "mean      2.375475   614.177636   252.054401  2049.678846  271024.033607   \n",
              "std       2.382754   636.137375   190.819457  2620.721577    2431.523746   \n",
              "min      -5.000000 -1488.000000     7.455000 -8154.900000  266794.000000   \n",
              "25%       1.000000   293.000000    94.710000   704.990000  268969.000000   \n",
              "50%       3.000000   670.000000   202.230000  1720.485000  271004.000000   \n",
              "75%       4.000000  1102.500000   367.605000  3552.575000  273172.000000   \n",
              "max       5.000000  1499.000000   786.975000  8281.975000  275261.000000   \n",
              "\n",
              "         city_code  prod_sub_cat_code  \n",
              "count  4999.000000        4999.000000  \n",
              "mean      5.613923           2.600320  \n",
              "std       2.859203           1.356106  \n",
              "min       1.000000           1.000000  \n",
              "25%       3.000000           1.000000  \n",
              "50%       6.000000           3.000000  \n",
              "75%       8.000000           4.000000  \n",
              "max      10.000000           4.000000  "
            ]
          },
          "metadata": {},
          "execution_count": 10
        }
      ]
    },
    {
      "cell_type": "code",
      "source": [
        "#melihat jumlah data pada variabel gender \n",
        "sex =data['Gender'].value_counts()\n",
        "sex"
      ],
      "metadata": {
        "colab": {
          "base_uri": "https://localhost:8080/"
        },
        "id": "VbCN0iQN1XQd",
        "outputId": "046469ca-aa2a-4bd2-811a-95cd491d6ada"
      },
      "execution_count": 11,
      "outputs": [
        {
          "output_type": "execute_result",
          "data": {
            "text/plain": [
              "M    2587\n",
              "F    2412\n",
              "Name: Gender, dtype: int64"
            ]
          },
          "metadata": {},
          "execution_count": 11
        }
      ]
    },
    {
      "cell_type": "code",
      "source": [
        "#membuat variabel gender menjadi variabel dummy\n",
        "gender_dummies=pd.get_dummies(data['Gender'])\n",
        "#print dan melihat jumlah variabel yang d rubahh pada awal\n",
        "gender_dummies.head(20)"
      ],
      "metadata": {
        "id": "XobixOnA8Ihn"
      },
      "execution_count": null,
      "outputs": []
    },
    {
      "cell_type": "code",
      "source": [
        "#menggabungkan variabel dummy dengan dataset di awal\n",
        "data=pd.concat([data,gender_dummies],axis=1)\n",
        "data.head(2)"
      ],
      "metadata": {
        "colab": {
          "base_uri": "https://localhost:8080/",
          "height": 246
        },
        "id": "LlQCtmAd8b21",
        "outputId": "50ebaa40-5d14-44ce-d929-bdcf82e8caea"
      },
      "execution_count": 13,
      "outputs": [
        {
          "output_type": "execute_result",
          "data": {
            "text/html": [
              "\n",
              "  <div id=\"df-a358d6e8-2c40-4bca-9457-7ae3a1bd7441\">\n",
              "    <div class=\"colab-df-container\">\n",
              "      <div>\n",
              "<style scoped>\n",
              "    .dataframe tbody tr th:only-of-type {\n",
              "        vertical-align: middle;\n",
              "    }\n",
              "\n",
              "    .dataframe tbody tr th {\n",
              "        vertical-align: top;\n",
              "    }\n",
              "\n",
              "    .dataframe thead th {\n",
              "        text-align: right;\n",
              "    }\n",
              "</style>\n",
              "<table border=\"1\" class=\"dataframe\">\n",
              "  <thead>\n",
              "    <tr style=\"text-align: right;\">\n",
              "      <th></th>\n",
              "      <th>transaction_id</th>\n",
              "      <th>cust_id</th>\n",
              "      <th>tran_date</th>\n",
              "      <th>prod_subcat_code</th>\n",
              "      <th>prod_cat_code</th>\n",
              "      <th>Qty</th>\n",
              "      <th>Rate</th>\n",
              "      <th>Tax</th>\n",
              "      <th>total_amt</th>\n",
              "      <th>Store_type</th>\n",
              "      <th>customer_Id</th>\n",
              "      <th>DOB</th>\n",
              "      <th>Gender</th>\n",
              "      <th>city_code</th>\n",
              "      <th>prod_cat</th>\n",
              "      <th>prod_sub_cat_code</th>\n",
              "      <th>prod_subcat</th>\n",
              "      <th>F</th>\n",
              "      <th>M</th>\n",
              "    </tr>\n",
              "  </thead>\n",
              "  <tbody>\n",
              "    <tr>\n",
              "      <th>0</th>\n",
              "      <td>80712190438</td>\n",
              "      <td>270351</td>\n",
              "      <td>28-02-2014</td>\n",
              "      <td>1</td>\n",
              "      <td>1</td>\n",
              "      <td>-5</td>\n",
              "      <td>-772</td>\n",
              "      <td>405.3</td>\n",
              "      <td>-4265.3</td>\n",
              "      <td>e-Shop</td>\n",
              "      <td>270351</td>\n",
              "      <td>26-09-1981</td>\n",
              "      <td>M</td>\n",
              "      <td>5.0</td>\n",
              "      <td>Clothing</td>\n",
              "      <td>4</td>\n",
              "      <td>Mens</td>\n",
              "      <td>0</td>\n",
              "      <td>1</td>\n",
              "    </tr>\n",
              "    <tr>\n",
              "      <th>1</th>\n",
              "      <td>80712190438</td>\n",
              "      <td>270351</td>\n",
              "      <td>28-02-2014</td>\n",
              "      <td>1</td>\n",
              "      <td>1</td>\n",
              "      <td>-5</td>\n",
              "      <td>-772</td>\n",
              "      <td>405.3</td>\n",
              "      <td>-4265.3</td>\n",
              "      <td>e-Shop</td>\n",
              "      <td>270351</td>\n",
              "      <td>26-09-1981</td>\n",
              "      <td>M</td>\n",
              "      <td>5.0</td>\n",
              "      <td>Clothing</td>\n",
              "      <td>1</td>\n",
              "      <td>Women</td>\n",
              "      <td>0</td>\n",
              "      <td>1</td>\n",
              "    </tr>\n",
              "  </tbody>\n",
              "</table>\n",
              "</div>\n",
              "      <button class=\"colab-df-convert\" onclick=\"convertToInteractive('df-a358d6e8-2c40-4bca-9457-7ae3a1bd7441')\"\n",
              "              title=\"Convert this dataframe to an interactive table.\"\n",
              "              style=\"display:none;\">\n",
              "        \n",
              "  <svg xmlns=\"http://www.w3.org/2000/svg\" height=\"24px\"viewBox=\"0 0 24 24\"\n",
              "       width=\"24px\">\n",
              "    <path d=\"M0 0h24v24H0V0z\" fill=\"none\"/>\n",
              "    <path d=\"M18.56 5.44l.94 2.06.94-2.06 2.06-.94-2.06-.94-.94-2.06-.94 2.06-2.06.94zm-11 1L8.5 8.5l.94-2.06 2.06-.94-2.06-.94L8.5 2.5l-.94 2.06-2.06.94zm10 10l.94 2.06.94-2.06 2.06-.94-2.06-.94-.94-2.06-.94 2.06-2.06.94z\"/><path d=\"M17.41 7.96l-1.37-1.37c-.4-.4-.92-.59-1.43-.59-.52 0-1.04.2-1.43.59L10.3 9.45l-7.72 7.72c-.78.78-.78 2.05 0 2.83L4 21.41c.39.39.9.59 1.41.59.51 0 1.02-.2 1.41-.59l7.78-7.78 2.81-2.81c.8-.78.8-2.07 0-2.86zM5.41 20L4 18.59l7.72-7.72 1.47 1.35L5.41 20z\"/>\n",
              "  </svg>\n",
              "      </button>\n",
              "      \n",
              "  <style>\n",
              "    .colab-df-container {\n",
              "      display:flex;\n",
              "      flex-wrap:wrap;\n",
              "      gap: 12px;\n",
              "    }\n",
              "\n",
              "    .colab-df-convert {\n",
              "      background-color: #E8F0FE;\n",
              "      border: none;\n",
              "      border-radius: 50%;\n",
              "      cursor: pointer;\n",
              "      display: none;\n",
              "      fill: #1967D2;\n",
              "      height: 32px;\n",
              "      padding: 0 0 0 0;\n",
              "      width: 32px;\n",
              "    }\n",
              "\n",
              "    .colab-df-convert:hover {\n",
              "      background-color: #E2EBFA;\n",
              "      box-shadow: 0px 1px 2px rgba(60, 64, 67, 0.3), 0px 1px 3px 1px rgba(60, 64, 67, 0.15);\n",
              "      fill: #174EA6;\n",
              "    }\n",
              "\n",
              "    [theme=dark] .colab-df-convert {\n",
              "      background-color: #3B4455;\n",
              "      fill: #D2E3FC;\n",
              "    }\n",
              "\n",
              "    [theme=dark] .colab-df-convert:hover {\n",
              "      background-color: #434B5C;\n",
              "      box-shadow: 0px 1px 3px 1px rgba(0, 0, 0, 0.15);\n",
              "      filter: drop-shadow(0px 1px 2px rgba(0, 0, 0, 0.3));\n",
              "      fill: #FFFFFF;\n",
              "    }\n",
              "  </style>\n",
              "\n",
              "      <script>\n",
              "        const buttonEl =\n",
              "          document.querySelector('#df-a358d6e8-2c40-4bca-9457-7ae3a1bd7441 button.colab-df-convert');\n",
              "        buttonEl.style.display =\n",
              "          google.colab.kernel.accessAllowed ? 'block' : 'none';\n",
              "\n",
              "        async function convertToInteractive(key) {\n",
              "          const element = document.querySelector('#df-a358d6e8-2c40-4bca-9457-7ae3a1bd7441');\n",
              "          const dataTable =\n",
              "            await google.colab.kernel.invokeFunction('convertToInteractive',\n",
              "                                                     [key], {});\n",
              "          if (!dataTable) return;\n",
              "\n",
              "          const docLinkHtml = 'Like what you see? Visit the ' +\n",
              "            '<a target=\"_blank\" href=https://colab.research.google.com/notebooks/data_table.ipynb>data table notebook</a>'\n",
              "            + ' to learn more about interactive tables.';\n",
              "          element.innerHTML = '';\n",
              "          dataTable['output_type'] = 'display_data';\n",
              "          await google.colab.output.renderOutput(dataTable, element);\n",
              "          const docLink = document.createElement('div');\n",
              "          docLink.innerHTML = docLinkHtml;\n",
              "          element.appendChild(docLink);\n",
              "        }\n",
              "      </script>\n",
              "    </div>\n",
              "  </div>\n",
              "  "
            ],
            "text/plain": [
              "   transaction_id  cust_id   tran_date  prod_subcat_code  prod_cat_code  Qty  \\\n",
              "0     80712190438   270351  28-02-2014                 1              1   -5   \n",
              "1     80712190438   270351  28-02-2014                 1              1   -5   \n",
              "\n",
              "   Rate    Tax  total_amt Store_type  customer_Id         DOB Gender  \\\n",
              "0  -772  405.3    -4265.3     e-Shop       270351  26-09-1981      M   \n",
              "1  -772  405.3    -4265.3     e-Shop       270351  26-09-1981      M   \n",
              "\n",
              "   city_code  prod_cat  prod_sub_cat_code prod_subcat  F  M  \n",
              "0        5.0  Clothing                  4        Mens  0  1  \n",
              "1        5.0  Clothing                  1       Women  0  1  "
            ]
          },
          "metadata": {},
          "execution_count": 13
        }
      ]
    },
    {
      "cell_type": "code",
      "source": [
        "#untuk melihat jumlah data kategori pada variabel prod_cat\n",
        "data['prod_cat'].value_counts()"
      ],
      "metadata": {
        "colab": {
          "base_uri": "https://localhost:8080/"
        },
        "id": "UEhyOHno9JOd",
        "outputId": "f498c6ca-f24d-4cef-92e6-5fbc9af16693"
      },
      "execution_count": null,
      "outputs": [
        {
          "output_type": "execute_result",
          "data": {
            "text/plain": [
              "Clothing    3009\n",
              "Bags        1990\n",
              "Name: prod_cat, dtype: int64"
            ]
          },
          "metadata": {},
          "execution_count": 59
        }
      ]
    },
    {
      "cell_type": "code",
      "source": [
        "#diagram batang\n",
        "#untuk membuat ukuran box\n",
        "plt.figure(figsize=(7, 6))\n",
        "#kode untuk membuat bar pllot pada variabel sex dengan warna yang berbeda\n",
        "ax = sex.plot(kind='bar', rot=0, color=[\"red\",\"blue\"])\n",
        "#membuat judul pada diagram batang\n",
        "ax.set_title(\"banyak pelanggan berdasarkan jenis kelamin\", y = 1)\n",
        "#untuk memberi nama garis X\n",
        "ax.set_xlabel('Gender')\n",
        "#untuk memberi nama garis Y\n",
        "ax.set_ylabel('jumlah pelanggan')\n",
        "#untuk memberi nama pada tiap diagram batang\n",
        "ax.set_xticklabels(('Male', 'Female'))"
      ],
      "metadata": {
        "colab": {
          "base_uri": "https://localhost:8080/",
          "height": 422
        },
        "id": "dUDbrUeW3efX",
        "outputId": "8b905113-c9af-40b8-ca1c-62eca7937da4"
      },
      "execution_count": null,
      "outputs": [
        {
          "output_type": "execute_result",
          "data": {
            "text/plain": [
              "[Text(0, 0, 'Male'), Text(0, 0, 'Female')]"
            ]
          },
          "metadata": {},
          "execution_count": 48
        },
        {
          "output_type": "display_data",
          "data": {
            "image/png": "[encoded data removed]",
            "text/plain": [
              "<Figure size 504x432 with 1 Axes>"
            ]
          },
          "metadata": {
            "needs_background": "light"
          }
        }
      ]
    },
    {
      "cell_type": "code",
      "source": [
        "plt.figure(figsize=(14,6))\n",
        "#diagram batang variabel prod_cat dengan male/jenis kelamin perempuan \n",
        "sns.barplot(x='prod_cat',y='F',data=data)"
      ],
      "metadata": {
        "colab": {
          "base_uri": "https://localhost:8080/",
          "height": 407
        },
        "id": "sC3VsRXJ4NLm",
        "outputId": "1c497c1e-027a-4d42-e345-db1e40c3e12d"
      },
      "execution_count": 14,
      "outputs": [
        {
          "output_type": "execute_result",
          "data": {
            "text/plain": [
              "<matplotlib.axes._subplots.AxesSubplot at 0x7f6b89ea0510>"
            ]
          },
          "metadata": {},
          "execution_count": 14
        },
        {
          "output_type": "display_data",
          "data": {
            "image/png": "[encoded data removed]",
            "text/plain": [
              "<Figure size 1008x432 with 1 Axes>"
            ]
          },
          "metadata": {
            "needs_background": "light"
          }
        }
      ]
    },
    {
      "cell_type": "code",
      "source": [
        "#diagram batang variabel prod_cat dengan male/jenis kelamin laki laki\n",
        "plt.figure(figsize=(14,6))\n",
        "sns.barplot(x='prod_cat',y='M',data=data)"
      ],
      "metadata": {
        "colab": {
          "base_uri": "https://localhost:8080/",
          "height": 407
        },
        "id": "g4dXQWMF84dN",
        "outputId": "bfc1d046-ac24-4627-e515-43f58b94d14d"
      },
      "execution_count": null,
      "outputs": [
        {
          "output_type": "execute_result",
          "data": {
            "text/plain": [
              "<matplotlib.axes._subplots.AxesSubplot at 0x7f9c1ba179d0>"
            ]
          },
          "metadata": {},
          "execution_count": 57
        },
        {
          "output_type": "display_data",
          "data": {
            "image/png": "[encoded data removed]",
            "text/plain": [
              "<Figure size 1008x432 with 1 Axes>"
            ]
          },
          "metadata": {
            "needs_background": "light"
          }
        }
      ]
    },
    {
      "cell_type": "code",
      "source": [
        "explode = (0.1, 0, 0)\n",
        "fig1, ax1 = plt.subplots(figsize=(10,5))\n",
        "#memasukan variabel dalam jumlah persen dan mendiskrisipkan terhadap story_type\n",
        "ax1.pie(data.groupby('Store_type')['total_amt'].sum(),explode=None, labels=data['Store_type'].unique(), autopct='%1.1f%%',shadow=True, startangle=90)\n",
        "\n",
        "# Equal digunakan agar pie chart berbentuk lingkaran\n",
        "ax1.axis('equal')  \n",
        "plt.tight_layout()\n",
        "plt.legend()\n",
        "plt.show()"
      ],
      "metadata": {
        "colab": {
          "base_uri": "https://localhost:8080/",
          "height": 369
        },
        "id": "dcnXdoQT94G2",
        "outputId": "503cf1d1-bfc3-4262-da88-0f820a5c9e8d"
      },
      "execution_count": null,
      "outputs": [
        {
          "output_type": "display_data",
          "data": {
            "image/png": "[encoded data removed]",
            "text/plain": [
              "<Figure size 720x360 with 1 Axes>"
            ]
          },
          "metadata": {}
        }
      ]
    },
    {
      "cell_type": "code",
      "source": [
        "#menambahkan variabel baru month berdasarkan hari transaksi\n",
        "data['month'] = pd.DatetimeIndex(data['tran_date']).month\n",
        "data"
      ],
      "metadata": {
        "colab": {
          "base_uri": "https://localhost:8080/",
          "height": 834
        },
        "id": "uuWvSquO36at",
        "outputId": "e236ebb4-f320-409a-fa6c-e7fef4267f68"
      },
      "execution_count": null,
      "outputs": [
        {
          "output_type": "execute_result",
          "data": {
            "text/html": [
              "\n",
              "  <div id=\"df-f00d5e21-1ace-40fe-aede-7a4a633ab5eb\">\n",
              "    <div class=\"colab-df-container\">\n",
              "      <div>\n",
              "<style scoped>\n",
              "    .dataframe tbody tr th:only-of-type {\n",
              "        vertical-align: middle;\n",
              "    }\n",
              "\n",
              "    .dataframe tbody tr th {\n",
              "        vertical-align: top;\n",
              "    }\n",
              "\n",
              "    .dataframe thead th {\n",
              "        text-align: right;\n",
              "    }\n",
              "</style>\n",
              "<table border=\"1\" class=\"dataframe\">\n",
              "  <thead>\n",
              "    <tr style=\"text-align: right;\">\n",
              "      <th></th>\n",
              "      <th>transaction_id</th>\n",
              "      <th>cust_id</th>\n",
              "      <th>tran_date</th>\n",
              "      <th>prod_subcat_code</th>\n",
              "      <th>prod_cat_code</th>\n",
              "      <th>Qty</th>\n",
              "      <th>Rate</th>\n",
              "      <th>Tax</th>\n",
              "      <th>total_amt</th>\n",
              "      <th>Store_type</th>\n",
              "      <th>customer_Id</th>\n",
              "      <th>DOB</th>\n",
              "      <th>Gender</th>\n",
              "      <th>city_code</th>\n",
              "      <th>prod_cat</th>\n",
              "      <th>prod_sub_cat_code</th>\n",
              "      <th>prod_subcat</th>\n",
              "      <th>F</th>\n",
              "      <th>M</th>\n",
              "      <th>month</th>\n",
              "    </tr>\n",
              "  </thead>\n",
              "  <tbody>\n",
              "    <tr>\n",
              "      <th>0</th>\n",
              "      <td>80712190438</td>\n",
              "      <td>270351</td>\n",
              "      <td>28-02-2014</td>\n",
              "      <td>1</td>\n",
              "      <td>1</td>\n",
              "      <td>-5</td>\n",
              "      <td>-772</td>\n",
              "      <td>405.30</td>\n",
              "      <td>-4265.30</td>\n",
              "      <td>e-Shop</td>\n",
              "      <td>270351</td>\n",
              "      <td>26-09-1981</td>\n",
              "      <td>M</td>\n",
              "      <td>5.0</td>\n",
              "      <td>Clothing</td>\n",
              "      <td>4</td>\n",
              "      <td>Mens</td>\n",
              "      <td>0</td>\n",
              "      <td>1</td>\n",
              "      <td>2</td>\n",
              "    </tr>\n",
              "    <tr>\n",
              "      <th>1</th>\n",
              "      <td>80712190438</td>\n",
              "      <td>270351</td>\n",
              "      <td>28-02-2014</td>\n",
              "      <td>1</td>\n",
              "      <td>1</td>\n",
              "      <td>-5</td>\n",
              "      <td>-772</td>\n",
              "      <td>405.30</td>\n",
              "      <td>-4265.30</td>\n",
              "      <td>e-Shop</td>\n",
              "      <td>270351</td>\n",
              "      <td>26-09-1981</td>\n",
              "      <td>M</td>\n",
              "      <td>5.0</td>\n",
              "      <td>Clothing</td>\n",
              "      <td>1</td>\n",
              "      <td>Women</td>\n",
              "      <td>0</td>\n",
              "      <td>1</td>\n",
              "      <td>2</td>\n",
              "    </tr>\n",
              "    <tr>\n",
              "      <th>2</th>\n",
              "      <td>80712190438</td>\n",
              "      <td>270351</td>\n",
              "      <td>28-02-2014</td>\n",
              "      <td>1</td>\n",
              "      <td>1</td>\n",
              "      <td>-5</td>\n",
              "      <td>-772</td>\n",
              "      <td>405.30</td>\n",
              "      <td>-4265.30</td>\n",
              "      <td>e-Shop</td>\n",
              "      <td>270351</td>\n",
              "      <td>26-09-1981</td>\n",
              "      <td>M</td>\n",
              "      <td>5.0</td>\n",
              "      <td>Clothing</td>\n",
              "      <td>3</td>\n",
              "      <td>Kids</td>\n",
              "      <td>0</td>\n",
              "      <td>1</td>\n",
              "      <td>2</td>\n",
              "    </tr>\n",
              "    <tr>\n",
              "      <th>3</th>\n",
              "      <td>80712190438</td>\n",
              "      <td>270351</td>\n",
              "      <td>20-02-2014</td>\n",
              "      <td>1</td>\n",
              "      <td>1</td>\n",
              "      <td>5</td>\n",
              "      <td>772</td>\n",
              "      <td>405.30</td>\n",
              "      <td>4265.30</td>\n",
              "      <td>e-Shop</td>\n",
              "      <td>270351</td>\n",
              "      <td>26-09-1981</td>\n",
              "      <td>M</td>\n",
              "      <td>5.0</td>\n",
              "      <td>Clothing</td>\n",
              "      <td>4</td>\n",
              "      <td>Mens</td>\n",
              "      <td>0</td>\n",
              "      <td>1</td>\n",
              "      <td>2</td>\n",
              "    </tr>\n",
              "    <tr>\n",
              "      <th>4</th>\n",
              "      <td>80712190438</td>\n",
              "      <td>270351</td>\n",
              "      <td>20-02-2014</td>\n",
              "      <td>1</td>\n",
              "      <td>1</td>\n",
              "      <td>5</td>\n",
              "      <td>772</td>\n",
              "      <td>405.30</td>\n",
              "      <td>4265.30</td>\n",
              "      <td>e-Shop</td>\n",
              "      <td>270351</td>\n",
              "      <td>26-09-1981</td>\n",
              "      <td>M</td>\n",
              "      <td>5.0</td>\n",
              "      <td>Clothing</td>\n",
              "      <td>1</td>\n",
              "      <td>Women</td>\n",
              "      <td>0</td>\n",
              "      <td>1</td>\n",
              "      <td>2</td>\n",
              "    </tr>\n",
              "    <tr>\n",
              "      <th>...</th>\n",
              "      <td>...</td>\n",
              "      <td>...</td>\n",
              "      <td>...</td>\n",
              "      <td>...</td>\n",
              "      <td>...</td>\n",
              "      <td>...</td>\n",
              "      <td>...</td>\n",
              "      <td>...</td>\n",
              "      <td>...</td>\n",
              "      <td>...</td>\n",
              "      <td>...</td>\n",
              "      <td>...</td>\n",
              "      <td>...</td>\n",
              "      <td>...</td>\n",
              "      <td>...</td>\n",
              "      <td>...</td>\n",
              "      <td>...</td>\n",
              "      <td>...</td>\n",
              "      <td>...</td>\n",
              "      <td>...</td>\n",
              "    </tr>\n",
              "    <tr>\n",
              "      <th>5000</th>\n",
              "      <td>18727956164</td>\n",
              "      <td>267161</td>\n",
              "      <td>23-02-2011</td>\n",
              "      <td>4</td>\n",
              "      <td>4</td>\n",
              "      <td>5</td>\n",
              "      <td>668</td>\n",
              "      <td>350.70</td>\n",
              "      <td>3690.70</td>\n",
              "      <td>e-Shop</td>\n",
              "      <td>267161</td>\n",
              "      <td>08-05-1981</td>\n",
              "      <td>M</td>\n",
              "      <td>9.0</td>\n",
              "      <td>Bags</td>\n",
              "      <td>4</td>\n",
              "      <td>Women</td>\n",
              "      <td>0</td>\n",
              "      <td>1</td>\n",
              "      <td>2</td>\n",
              "    </tr>\n",
              "    <tr>\n",
              "      <th>5001</th>\n",
              "      <td>60416814232</td>\n",
              "      <td>273281</td>\n",
              "      <td>18-02-2011</td>\n",
              "      <td>4</td>\n",
              "      <td>4</td>\n",
              "      <td>4</td>\n",
              "      <td>202</td>\n",
              "      <td>84.84</td>\n",
              "      <td>892.84</td>\n",
              "      <td>Flagship store</td>\n",
              "      <td>273281</td>\n",
              "      <td>14-12-1988</td>\n",
              "      <td>F</td>\n",
              "      <td>9.0</td>\n",
              "      <td>Bags</td>\n",
              "      <td>1</td>\n",
              "      <td>Mens</td>\n",
              "      <td>1</td>\n",
              "      <td>0</td>\n",
              "      <td>2</td>\n",
              "    </tr>\n",
              "    <tr>\n",
              "      <th>5002</th>\n",
              "      <td>60416814232</td>\n",
              "      <td>273281</td>\n",
              "      <td>18-02-2011</td>\n",
              "      <td>4</td>\n",
              "      <td>4</td>\n",
              "      <td>4</td>\n",
              "      <td>202</td>\n",
              "      <td>84.84</td>\n",
              "      <td>892.84</td>\n",
              "      <td>Flagship store</td>\n",
              "      <td>273281</td>\n",
              "      <td>14-12-1988</td>\n",
              "      <td>F</td>\n",
              "      <td>9.0</td>\n",
              "      <td>Bags</td>\n",
              "      <td>4</td>\n",
              "      <td>Women</td>\n",
              "      <td>1</td>\n",
              "      <td>0</td>\n",
              "      <td>2</td>\n",
              "    </tr>\n",
              "    <tr>\n",
              "      <th>5003</th>\n",
              "      <td>83245680995</td>\n",
              "      <td>273723</td>\n",
              "      <td>26-01-2011</td>\n",
              "      <td>4</td>\n",
              "      <td>4</td>\n",
              "      <td>4</td>\n",
              "      <td>1477</td>\n",
              "      <td>620.34</td>\n",
              "      <td>6528.34</td>\n",
              "      <td>e-Shop</td>\n",
              "      <td>273723</td>\n",
              "      <td>21-01-1984</td>\n",
              "      <td>F</td>\n",
              "      <td>4.0</td>\n",
              "      <td>Bags</td>\n",
              "      <td>1</td>\n",
              "      <td>Mens</td>\n",
              "      <td>1</td>\n",
              "      <td>0</td>\n",
              "      <td>1</td>\n",
              "    </tr>\n",
              "    <tr>\n",
              "      <th>5004</th>\n",
              "      <td>83245680995</td>\n",
              "      <td>273723</td>\n",
              "      <td>26-01-2011</td>\n",
              "      <td>4</td>\n",
              "      <td>4</td>\n",
              "      <td>4</td>\n",
              "      <td>1477</td>\n",
              "      <td>620.34</td>\n",
              "      <td>6528.34</td>\n",
              "      <td>e-Shop</td>\n",
              "      <td>273723</td>\n",
              "      <td>21-01-1984</td>\n",
              "      <td>F</td>\n",
              "      <td>4.0</td>\n",
              "      <td>Bags</td>\n",
              "      <td>4</td>\n",
              "      <td>Women</td>\n",
              "      <td>1</td>\n",
              "      <td>0</td>\n",
              "      <td>1</td>\n",
              "    </tr>\n",
              "  </tbody>\n",
              "</table>\n",
              "<p>4999 rows × 20 columns</p>\n",
              "</div>\n",
              "      <button class=\"colab-df-convert\" onclick=\"convertToInteractive('df-f00d5e21-1ace-40fe-aede-7a4a633ab5eb')\"\n",
              "              title=\"Convert this dataframe to an interactive table.\"\n",
              "              style=\"display:none;\">\n",
              "        \n",
              "  <svg xmlns=\"http://www.w3.org/2000/svg\" height=\"24px\"viewBox=\"0 0 24 24\"\n",
              "       width=\"24px\">\n",
              "    <path d=\"M0 0h24v24H0V0z\" fill=\"none\"/>\n",
              "    <path d=\"M18.56 5.44l.94 2.06.94-2.06 2.06-.94-2.06-.94-.94-2.06-.94 2.06-2.06.94zm-11 1L8.5 8.5l.94-2.06 2.06-.94-2.06-.94L8.5 2.5l-.94 2.06-2.06.94zm10 10l.94 2.06.94-2.06 2.06-.94-2.06-.94-.94-2.06-.94 2.06-2.06.94z\"/><path d=\"M17.41 7.96l-1.37-1.37c-.4-.4-.92-.59-1.43-.59-.52 0-1.04.2-1.43.59L10.3 9.45l-7.72 7.72c-.78.78-.78 2.05 0 2.83L4 21.41c.39.39.9.59 1.41.59.51 0 1.02-.2 1.41-.59l7.78-7.78 2.81-2.81c.8-.78.8-2.07 0-2.86zM5.41 20L4 18.59l7.72-7.72 1.47 1.35L5.41 20z\"/>\n",
              "  </svg>\n",
              "      </button>\n",
              "      \n",
              "  <style>\n",
              "    .colab-df-container {\n",
              "      display:flex;\n",
              "      flex-wrap:wrap;\n",
              "      gap: 12px;\n",
              "    }\n",
              "\n",
              "    .colab-df-convert {\n",
              "      background-color: #E8F0FE;\n",
              "      border: none;\n",
              "      border-radius: 50%;\n",
              "      cursor: pointer;\n",
              "      display: none;\n",
              "      fill: #1967D2;\n",
              "      height: 32px;\n",
              "      padding: 0 0 0 0;\n",
              "      width: 32px;\n",
              "    }\n",
              "\n",
              "    .colab-df-convert:hover {\n",
              "      background-color: #E2EBFA;\n",
              "      box-shadow: 0px 1px 2px rgba(60, 64, 67, 0.3), 0px 1px 3px 1px rgba(60, 64, 67, 0.15);\n",
              "      fill: #174EA6;\n",
              "    }\n",
              "\n",
              "    [theme=dark] .colab-df-convert {\n",
              "      background-color: #3B4455;\n",
              "      fill: #D2E3FC;\n",
              "    }\n",
              "\n",
              "    [theme=dark] .colab-df-convert:hover {\n",
              "      background-color: #434B5C;\n",
              "      box-shadow: 0px 1px 3px 1px rgba(0, 0, 0, 0.15);\n",
              "      filter: drop-shadow(0px 1px 2px rgba(0, 0, 0, 0.3));\n",
              "      fill: #FFFFFF;\n",
              "    }\n",
              "  </style>\n",
              "\n",
              "      <script>\n",
              "        const buttonEl =\n",
              "          document.querySelector('#df-f00d5e21-1ace-40fe-aede-7a4a633ab5eb button.colab-df-convert');\n",
              "        buttonEl.style.display =\n",
              "          google.colab.kernel.accessAllowed ? 'block' : 'none';\n",
              "\n",
              "        async function convertToInteractive(key) {\n",
              "          const element = document.querySelector('#df-f00d5e21-1ace-40fe-aede-7a4a633ab5eb');\n",
              "          const dataTable =\n",
              "            await google.colab.kernel.invokeFunction('convertToInteractive',\n",
              "                                                     [key], {});\n",
              "          if (!dataTable) return;\n",
              "\n",
              "          const docLinkHtml = 'Like what you see? Visit the ' +\n",
              "            '<a target=\"_blank\" href=https://colab.research.google.com/notebooks/data_table.ipynb>data table notebook</a>'\n",
              "            + ' to learn more about interactive tables.';\n",
              "          element.innerHTML = '';\n",
              "          dataTable['output_type'] = 'display_data';\n",
              "          await google.colab.output.renderOutput(dataTable, element);\n",
              "          const docLink = document.createElement('div');\n",
              "          docLink.innerHTML = docLinkHtml;\n",
              "          element.appendChild(docLink);\n",
              "        }\n",
              "      </script>\n",
              "    </div>\n",
              "  </div>\n",
              "  "
            ],
            "text/plain": [
              "      transaction_id  cust_id   tran_date  prod_subcat_code  prod_cat_code  \\\n",
              "0        80712190438   270351  28-02-2014                 1              1   \n",
              "1        80712190438   270351  28-02-2014                 1              1   \n",
              "2        80712190438   270351  28-02-2014                 1              1   \n",
              "3        80712190438   270351  20-02-2014                 1              1   \n",
              "4        80712190438   270351  20-02-2014                 1              1   \n",
              "...              ...      ...         ...               ...            ...   \n",
              "5000     18727956164   267161  23-02-2011                 4              4   \n",
              "5001     60416814232   273281  18-02-2011                 4              4   \n",
              "5002     60416814232   273281  18-02-2011                 4              4   \n",
              "5003     83245680995   273723  26-01-2011                 4              4   \n",
              "5004     83245680995   273723  26-01-2011                 4              4   \n",
              "\n",
              "      Qty  Rate     Tax  total_amt      Store_type  customer_Id         DOB  \\\n",
              "0      -5  -772  405.30   -4265.30          e-Shop       270351  26-09-1981   \n",
              "1      -5  -772  405.30   -4265.30          e-Shop       270351  26-09-1981   \n",
              "2      -5  -772  405.30   -4265.30          e-Shop       270351  26-09-1981   \n",
              "3       5   772  405.30    4265.30          e-Shop       270351  26-09-1981   \n",
              "4       5   772  405.30    4265.30          e-Shop       270351  26-09-1981   \n",
              "...   ...   ...     ...        ...             ...          ...         ...   \n",
              "5000    5   668  350.70    3690.70          e-Shop       267161  08-05-1981   \n",
              "5001    4   202   84.84     892.84  Flagship store       273281  14-12-1988   \n",
              "5002    4   202   84.84     892.84  Flagship store       273281  14-12-1988   \n",
              "5003    4  1477  620.34    6528.34          e-Shop       273723  21-01-1984   \n",
              "5004    4  1477  620.34    6528.34          e-Shop       273723  21-01-1984   \n",
              "\n",
              "     Gender  city_code  prod_cat  prod_sub_cat_code prod_subcat  F  M  month  \n",
              "0         M        5.0  Clothing                  4        Mens  0  1      2  \n",
              "1         M        5.0  Clothing                  1       Women  0  1      2  \n",
              "2         M        5.0  Clothing                  3        Kids  0  1      2  \n",
              "3         M        5.0  Clothing                  4        Mens  0  1      2  \n",
              "4         M        5.0  Clothing                  1       Women  0  1      2  \n",
              "...     ...        ...       ...                ...         ... .. ..    ...  \n",
              "5000      M        9.0      Bags                  4       Women  0  1      2  \n",
              "5001      F        9.0      Bags                  1        Mens  1  0      2  \n",
              "5002      F        9.0      Bags                  4       Women  1  0      2  \n",
              "5003      F        4.0      Bags                  1        Mens  1  0      1  \n",
              "5004      F        4.0      Bags                  4       Women  1  0      1  \n",
              "\n",
              "[4999 rows x 20 columns]"
            ]
          },
          "metadata": {},
          "execution_count": 64
        }
      ]
    },
    {
      "cell_type": "code",
      "source": [
        "#diagram batang total amount terhadap bulan penjualan selama satu tahun\n",
        "plt.figure(figsize=(14,6))\n",
        "sns.barplot(x='month',y='total_amt',data=data)"
      ],
      "metadata": {
        "colab": {
          "base_uri": "https://localhost:8080/",
          "height": 406
        },
        "id": "1EH5XAdyAUu7",
        "outputId": "ee65e0e1-55b9-40e3-ea0d-2f7e6f625952"
      },
      "execution_count": null,
      "outputs": [
        {
          "output_type": "execute_result",
          "data": {
            "text/plain": [
              "<matplotlib.axes._subplots.AxesSubplot at 0x7f9c1b7f7a10>"
            ]
          },
          "metadata": {},
          "execution_count": 66
        },
        {
          "output_type": "display_data",
          "data": {
            "image/png": "[encoded data removed]",
            "text/plain": [
              "<Figure size 1008x432 with 1 Axes>"
            ]
          },
          "metadata": {
            "needs_background": "light"
          }
        }
      ]
    }
  ]
}